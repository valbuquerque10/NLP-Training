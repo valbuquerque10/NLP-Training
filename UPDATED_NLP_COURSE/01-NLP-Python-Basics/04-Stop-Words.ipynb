{
 "cells": [
  {
   "cell_type": "markdown",
   "metadata": {},
   "source": [
    "___\n",
    "\n",
    "<a href='http://www.pieriandata.com'> <img src='../Pierian_Data_Logo.png' /></a>\n",
    "___"
   ]
  },
  {
   "cell_type": "markdown",
   "metadata": {},
   "source": [
    "# Stop Words\n",
    "Words like \"a\" and \"the\" appear so frequently that they don't require tagging as thoroughly as nouns, verbs and modifiers. We call these *stop words*, and they can be filtered from the text to be processed. spaCy holds a built-in list of some 305 English stop words."
   ]
  },
  {
   "cell_type": "code",
   "execution_count": 2,
   "metadata": {},
   "outputs": [],
   "source": [
    "# Perform standard imports:\n",
    "import spacy\n",
    "nlp = spacy.load('en_core_web_sm')"
   ]
  },
  {
   "cell_type": "code",
   "execution_count": 3,
   "metadata": {},
   "outputs": [
    {
     "name": "stdout",
     "output_type": "stream",
     "text": [
      "{'those', 'amount', \"n't\", 'whence', 'here', 'must', 'again', 'upon', 'before', 'been', '‘m', '‘ll', \"'s\", 'seem', 'serious', 'her', 'mine', '’s', 'none', \"'ll\", 'several', 'who', 'show', '‘d', 'to', 'bottom', 'is', 'done', 'nor', 'last', 'whither', 'therein', 'never', 'down', 'themselves', 'thru', 'even', 'will', 'it', 'many', 'own', 'already', 'via', 'eight', 'herein', 'anyone', '‘re', 'thereupon', 'elsewhere', 'hundred', 'we', 'on', 'because', 'next', 'much', 'into', 'another', 'ours', 'ever', 'up', 'where', 'go', 'your', 'at', 'say', 'becomes', 'he', 'so', 'during', \"'d\", 'twelve', 'once', 'be', 'have', 'therefore', 'just', 'together', 'itself', 'make', 'not', 'what', 'after', 'further', 'for', 'are', 'whether', 'due', 'very', 'too', 'wherein', 'still', \"'m\", 'n’t', 'there', 'me', 'sometime', 'then', 'otherwise', 'becoming', 'somehow', 'onto', 'since', 'whoever', '’d', 'as', 'and', 'empty', 'fifteen', 'everything', 'seems', 'four', 'full', 'which', 'every', 'move', 'does', 'him', 'n‘t', 'across', 'one', 'whenever', 'yet', 'whereas', 'became', 'i', 'am', \"'re\", 'through', 'whereby', 'six', 'latterly', 'had', 'towards', 'name', 'also', 'mostly', 'nowhere', 'almost', '’ll', 'but', 'however', 'whole', 'beforehand', 'off', '’re', 'unless', 'can', 'namely', 'or', 'others', 'twenty', 'about', 're', 'whom', 'become', 'whatever', 'by', 'thus', 'nevertheless', 'besides', 'doing', 'except', 'his', 'wherever', 'used', 'were', 'ourselves', 'should', 'herself', 'anyhow', 'really', 'same', 'its', 'them', 'seeming', 'when', 'more', 'take', 'thereafter', 'though', 'five', 'other', 'side', 'among', 'than', 'all', 'within', 'along', \"'ve\", 'my', 'few', 'please', 'an', 'hence', 'beside', 'keep', 'himself', 'using', 'only', 'latter', 'rather', 'above', 'us', 'front', 'hers', 'did', 'someone', 'such', 'of', 'nobody', 'that', 'get', 'neither', 'eleven', 'something', 'seemed', 'moreover', 'hereupon', 'how', 'most', 'either', 'regarding', 'first', 'a', 'may', 'both', 'over', 'ten', '‘s', 'part', 'hereafter', 'thereby', 'being', 'beyond', 'indeed', 'call', 'now', 'anywhere', 'their', 'whose', 'former', 'the', 'our', 'back', 'everywhere', 'noone', 'three', 'enough', 'why', 'sixty', 'these', 'each', 'third', 'afterwards', 'anything', 'ca', 'hereby', 'behind', 'without', 'any', 'has', 'anyway', 'forty', 'else', 'if', 'put', 'you', 'while', 'everyone', 'made', 'with', 'this', 'yourself', 'do', 'although', 'would', 'alone', 'sometimes', '‘ve', '’ve', 'fifty', 'least', 'under', 'could', 'give', 'toward', 'nine', 'yours', 'below', 'often', 'less', 'top', 'some', 'cannot', 'throughout', 'she', '’m', 'see', 'thence', 'between', 'well', 'nothing', 'various', 'was', 'whereupon', 'amongst', 'in', 'out', 'around', 'perhaps', 'formerly', 'two', 'no', 'they', 'yourselves', 'somewhere', 'until', 'quite', 'whereafter', 'per', 'from', 'always', 'against', 'meanwhile', 'myself', 'might'}\n"
     ]
    }
   ],
   "source": [
    "# Print the set of spaCy's default stop words (remember that sets are unordered):\n",
    "print(nlp.Defaults.stop_words)"
   ]
  },
  {
   "cell_type": "code",
   "execution_count": 4,
   "metadata": {},
   "outputs": [
    {
     "data": {
      "text/plain": [
       "326"
      ]
     },
     "execution_count": 4,
     "metadata": {},
     "output_type": "execute_result"
    }
   ],
   "source": [
    "len(nlp.Defaults.stop_words)"
   ]
  },
  {
   "cell_type": "markdown",
   "metadata": {},
   "source": [
    "## To see if a word is a stop word"
   ]
  },
  {
   "cell_type": "code",
   "execution_count": 5,
   "metadata": {},
   "outputs": [
    {
     "data": {
      "text/plain": [
       "True"
      ]
     },
     "execution_count": 5,
     "metadata": {},
     "output_type": "execute_result"
    }
   ],
   "source": [
    "nlp.vocab['myself'].is_stop"
   ]
  },
  {
   "cell_type": "code",
   "execution_count": 6,
   "metadata": {},
   "outputs": [
    {
     "data": {
      "text/plain": [
       "False"
      ]
     },
     "execution_count": 6,
     "metadata": {},
     "output_type": "execute_result"
    }
   ],
   "source": [
    "nlp.vocab['mystery'].is_stop"
   ]
  },
  {
   "cell_type": "markdown",
   "metadata": {},
   "source": [
    "## To add a stop word\n",
    "There may be times when you wish to add a stop word to the default set. Perhaps you decide that `'btw'` (common shorthand for \"by the way\") should be considered a stop word."
   ]
  },
  {
   "cell_type": "code",
   "execution_count": 7,
   "metadata": {},
   "outputs": [],
   "source": [
    "# Add the word to the set of stop words. Use lowercase!\n",
    "nlp.Defaults.stop_words.add('btw')\n",
    "\n",
    "# Set the stop_word tag on the lexeme\n",
    "nlp.vocab['btw'].is_stop = True"
   ]
  },
  {
   "cell_type": "code",
   "execution_count": 8,
   "metadata": {},
   "outputs": [
    {
     "data": {
      "text/plain": [
       "327"
      ]
     },
     "execution_count": 8,
     "metadata": {},
     "output_type": "execute_result"
    }
   ],
   "source": [
    "len(nlp.Defaults.stop_words)"
   ]
  },
  {
   "cell_type": "code",
   "execution_count": 9,
   "metadata": {},
   "outputs": [
    {
     "data": {
      "text/plain": [
       "True"
      ]
     },
     "execution_count": 9,
     "metadata": {},
     "output_type": "execute_result"
    }
   ],
   "source": [
    "nlp.vocab['btw'].is_stop"
   ]
  },
  {
   "cell_type": "markdown",
   "metadata": {},
   "source": [
    "<font color=green>When adding stop words, always use lowercase. Lexemes are converted to lowercase before being added to **vocab**.</font>"
   ]
  },
  {
   "cell_type": "markdown",
   "metadata": {},
   "source": [
    "## To remove a stop word\n",
    "Alternatively, you may decide that `'beyond'` should not be considered a stop word."
   ]
  },
  {
   "cell_type": "code",
   "execution_count": 10,
   "metadata": {},
   "outputs": [],
   "source": [
    "# Remove the word from the set of stop words\n",
    "nlp.Defaults.stop_words.remove('beyond')\n",
    "\n",
    "# Remove the stop_word tag from the lexeme\n",
    "nlp.vocab['beyond'].is_stop = False"
   ]
  },
  {
   "cell_type": "code",
   "execution_count": 11,
   "metadata": {},
   "outputs": [
    {
     "data": {
      "text/plain": [
       "326"
      ]
     },
     "execution_count": 11,
     "metadata": {},
     "output_type": "execute_result"
    }
   ],
   "source": [
    "len(nlp.Defaults.stop_words)"
   ]
  },
  {
   "cell_type": "code",
   "execution_count": 12,
   "metadata": {},
   "outputs": [
    {
     "data": {
      "text/plain": [
       "False"
      ]
     },
     "execution_count": 12,
     "metadata": {},
     "output_type": "execute_result"
    }
   ],
   "source": [
    "nlp.vocab['beyond'].is_stop"
   ]
  },
  {
   "cell_type": "markdown",
   "metadata": {},
   "source": [
    "Great! Now you should be able to access spaCy's default set of stop words, and add or remove stop words as needed.\n",
    "## Next up: Vocabulary and Matching"
   ]
  }
 ],
 "metadata": {
  "kernelspec": {
   "display_name": "Python 3",
   "language": "python",
   "name": "python3"
  },
  "language_info": {
   "codemirror_mode": {
    "name": "ipython",
    "version": 3
   },
   "file_extension": ".py",
   "mimetype": "text/x-python",
   "name": "python",
   "nbconvert_exporter": "python",
   "pygments_lexer": "ipython3",
   "version": "3.11.2"
  }
 },
 "nbformat": 4,
 "nbformat_minor": 2
}
